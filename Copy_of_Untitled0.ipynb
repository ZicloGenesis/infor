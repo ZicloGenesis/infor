{
  "nbformat": 4,
  "nbformat_minor": 0,
  "metadata": {
    "colab": {
      "provenance": [],
      "toc_visible": true
    },
    "kernelspec": {
      "name": "python3",
      "display_name": "Python 3"
    },
    "language_info": {
      "name": "python"
    }
  },
  "cells": [
    {
      "cell_type": "code",
      "execution_count": null,
      "metadata": {
        "id": "eAPZ1icGkZd4"
      },
      "outputs": [],
      "source": [
        "x = 10\n",
        "y = 20\n",
        "print(x+y)"
      ]
    },
    {
      "cell_type": "code",
      "source": [],
      "metadata": {
        "id": "9J-eqVvhlPVL"
      },
      "execution_count": null,
      "outputs": []
    }
  ]
}